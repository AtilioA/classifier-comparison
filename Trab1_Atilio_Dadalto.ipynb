{
 "cells": [
  {
   "cell_type": "markdown",
   "metadata": {},
   "source": [
    "Preparando pacotes para o notebook:"
   ]
  },
  {
   "cell_type": "code",
   "execution_count": 2,
   "metadata": {},
   "outputs": [
    {
     "name": "stdout",
     "output_type": "stream",
     "text": [
      "Defaulting to user installation because normal site-packages is not writeable\n",
      "Requirement already satisfied: numpy in /usr/lib/python3.10/site-packages (1.22.4)\n",
      "Requirement already satisfied: seaborn in /home/atilioa/.local/lib/python3.10/site-packages (0.11.2)\n",
      "Requirement already satisfied: scipy in /usr/lib/python3.10/site-packages (1.8.1)\n",
      "Requirement already satisfied: sklearn in /home/atilioa/.local/lib/python3.10/site-packages (0.0)\n",
      "Requirement already satisfied: matplotlib in /home/atilioa/.local/lib/python3.10/site-packages (3.5.2)\n",
      "Requirement already satisfied: pandas>=0.23 in /home/atilioa/.local/lib/python3.10/site-packages (from seaborn) (1.4.2)\n",
      "Requirement already satisfied: scikit-learn in /home/atilioa/.local/lib/python3.10/site-packages (from sklearn) (1.1.1)\n",
      "Requirement already satisfied: kiwisolver>=1.0.1 in /home/atilioa/.local/lib/python3.10/site-packages (from matplotlib) (1.4.2)\n",
      "Requirement already satisfied: pillow>=6.2.0 in /usr/lib/python3.10/site-packages (from matplotlib) (9.1.1)\n",
      "Requirement already satisfied: fonttools>=4.22.0 in /home/atilioa/.local/lib/python3.10/site-packages (from matplotlib) (4.33.3)\n",
      "Requirement already satisfied: python-dateutil>=2.7 in /usr/lib/python3.10/site-packages (from matplotlib) (2.8.2)\n",
      "Requirement already satisfied: pyparsing>=2.2.1 in /usr/lib/python3.10/site-packages (from matplotlib) (3.0.9)\n",
      "Requirement already satisfied: cycler>=0.10 in /home/atilioa/.local/lib/python3.10/site-packages (from matplotlib) (0.11.0)\n",
      "Requirement already satisfied: packaging>=20.0 in /usr/lib/python3.10/site-packages (from matplotlib) (21.3)\n",
      "Requirement already satisfied: pytz>=2020.1 in /home/atilioa/.local/lib/python3.10/site-packages (from pandas>=0.23->seaborn) (2021.1)\n",
      "Requirement already satisfied: six>=1.5 in /home/atilioa/.local/lib/python3.10/site-packages (from python-dateutil>=2.7->matplotlib) (1.14.0)\n",
      "Requirement already satisfied: threadpoolctl>=2.0.0 in /home/atilioa/.local/lib/python3.10/site-packages (from scikit-learn->sklearn) (3.1.0)\n",
      "Requirement already satisfied: joblib>=1.0.0 in /home/atilioa/.local/lib/python3.10/site-packages (from scikit-learn->sklearn) (1.1.0)\n",
      "Note: you may need to restart the kernel to use updated packages.\n"
     ]
    }
   ],
   "source": [
    "# Install packages via Jupyter kernel\n",
    "%pip install numpy seaborn scipy sklearn matplotlib\n",
    "\n",
    "import numpy as np\n",
    "import pandas as pd\n",
    "import matplotlib.pyplot as plt\n",
    "import seaborn as sns\n",
    "from scipy import stats\n",
    "from scipy.stats import ttest_rel, wilcoxon\n",
    "from sklearn.datasets import load_digits, load_breast_cancer\n",
    "from sklearn.dummy import DummyClassifier\n",
    "from sklearn.naive_bayes import GaussianNB\n",
    "from sklearn.tree import DecisionTreeClassifier, plot_tree, export_text\n",
    "from sklearn.neighbors import KNeighborsClassifier\n",
    "from sklearn.preprocessing import StandardScaler\n",
    "from sklearn.pipeline import Pipeline\n",
    "from sklearn.model_selection import cross_val_score, RepeatedStratifiedKFold, GridSearchCV\n",
    "from sklearn.metrics import accuracy_score, confusion_matrix, plot_confusion_matrix"
   ]
  },
  {
   "cell_type": "markdown",
   "metadata": {},
   "source": [
    "Primeira etapa: classificação com ZeroR e Naive Bayes Gaussiano"
   ]
  },
  {
   "cell_type": "code",
   "execution_count": 3,
   "metadata": {},
   "outputs": [
    {
     "name": "stdout",
     "output_type": "stream",
     "text": [
      "- digits: 10; - samples: 1797; - features: 64\n"
     ]
    }
   ],
   "source": [
    "# Load digits dataset from scikit-learn; split into data and target/label\n",
    "data, labels = load_digits(return_X_y=True)\n",
    "# Get the number of samples (lines) and features (columns); also get the number of unique labels, i.e. the number of classes\n",
    "(n_samples, n_features), n_digits = data.shape, np.unique(labels).size\n",
    "print(f\"- digits: {n_digits}; - samples: {n_samples}; - features: {n_features}\")\n",
    "\n",
    "# Initialize a dummy classifier (zeroR), and the Naive Bayes classifier (GaussianNB)\n",
    "zR = DummyClassifier(strategy='most_frequent')\n",
    "NBG = GaussianNB()\n",
    "\n",
    "# Initialize a scalar pipeline to scale the data before feeding it to the classifier\n",
    "scalar = StandardScaler()\n",
    "\n",
    "pipeline_zR = Pipeline([('transformer', scalar), ('estimator', zR)])\n",
    "pipeline_NBG = Pipeline([('transformer', scalar), ('estimator', NBG)])\n",
    "\n",
    "# Initialize a stratified k-fold cross-validation object with seed provided by the professor\n",
    "RSKF = RepeatedStratifiedKFold(n_splits=10, n_repeats=3, random_state=36851234)\n",
    "\n",
    "# Use zeroR (DummyClassifier) and naiveBayes to predict the class of the data with stratified cross-validation (10-fold), repeated 3 times\n",
    "scores_zR = cross_val_score(pipeline_zR, data, labels, scoring='accuracy', cv=RSKF)\n",
    "scores_NBG = cross_val_score(pipeline_NBG, data, labels, scoring='accuracy', cv=RSKF)\n",
    "\n",
    "# Create a dataframe where the columns are the methods and the rows are the scores\n",
    "df_scores = pd.DataFrame(data={'zR': scores_zR, 'NBG': scores_NBG})\n",
    "# print(df_scores)\n",
    "\n",
    "# Calculate statistics for the classifiers\n",
    "# zR                          \n",
    "mean_zR = scores_zR.mean()\n",
    "std_zR = scores_zR.std()\n",
    "lower_zR, upper_zR = stats.norm.interval(0.95, loc=mean_zR, \n",
    "                               scale=std_zR/np.sqrt(len(scores_zR)))\n",
    "                               \n",
    "# NBG\n",
    "mean_NBG = scores_NBG.mean()\n",
    "std_NBG = scores_NBG.std()\n",
    "lower_NBG, upper_NBG = stats.norm.interval(0.95, loc=mean_NBG, scale=std_NBG/np.sqrt(len(scores_NBG)))\n",
    "     "
   ]
  },
  {
   "cell_type": "markdown",
   "metadata": {},
   "source": [
    "Definição do KMC:"
   ]
  },
  {
   "cell_type": "code",
   "execution_count": 4,
   "metadata": {},
   "outputs": [],
   "source": [
    "from sklearn.base import BaseEstimator\n",
    "from sklearn.utils import check_X_y\n",
    "from sklearn.cluster import KMeans\n",
    "\n",
    "# The KMC classifier uses a clustering algorithm to define K groups of examples of each class in the training base.\n",
    "class KMeansCentroidsClassifier(BaseEstimator):\n",
    "    def __init__(self, k=1):\n",
    "        super().__init__()\n",
    "        self.k = k\n",
    "        self.centroids = []\n",
    "\n",
    "    # Fit KMC centroids to the training base\n",
    "    def fit(self, x_train, y_train):\n",
    "        x_train, y_train = check_X_y(x_train, y_train)\n",
    "\n",
    "        # Create k groups for each class\n",
    "        for _class in np.unique(y_train):\n",
    "            # Initialize KMeans:\n",
    "            km = KMeans(n_clusters=self.k)\n",
    "            # Fit KMeans:\n",
    "            km.fit(x_train[y_train == _class], y_train[y_train == _class])\n",
    "            # Append centroids to centroids list:   \n",
    "            self.centroids.append({\"clusters\": km.cluster_centers_, \"class\": _class})\n",
    "\n",
    "    # Find the closest centroid and return its class\n",
    "    def predict(self, x_test):\n",
    "        classes = []\n",
    "        for x in x_test:\n",
    "            min_dist = np.Inf\n",
    "            \n",
    "            for centroid in self.centroids:\n",
    "                for cluster in centroid[\"clusters\"]:\n",
    "                    dist = np.linalg.norm(x - cluster)\n",
    "                    if dist < min_dist:\n",
    "                        min_dist = dist\n",
    "                        _class = centroid[\"class\"]\n",
    "\n",
    "            classes.append(_class)\n",
    "            \n",
    "        return classes"
   ]
  },
  {
   "cell_type": "markdown",
   "metadata": {},
   "source": [
    "Preparando os modelos para a classificação:"
   ]
  },
  {
   "cell_type": "code",
   "execution_count": 5,
   "metadata": {},
   "outputs": [],
   "source": [
    "dKNN = KNeighborsClassifier(weights='distance')\n",
    "pipeline_kNN = Pipeline([('transformer', scalar), ('estimator', dKNN)])\n",
    "KMC = KMeansCentroidsClassifier()\n",
    "pipeline_KMC = Pipeline([('transformer', scalar), ('estimator', KMC)])\n",
    "AD = DecisionTreeClassifier()\n",
    "pipeline_AD = Pipeline([('transformer', scalar), ('estimator', AD)])\n",
    "\n",
    "# \"Neste caso, o procedimento de treinamento, validação e teste será realizado através de 3 rodadas de ciclos aninhados de validação e teste,\n",
    "# com o ciclo interno de validação contendo 4 folds e o externo de teste com 10 folds.\"\n",
    "RSKF = RepeatedStratifiedKFold(n_splits=10, n_repeats=3)\n",
    "\n",
    "# \"A busca em grade (grid search) do ciclo interno deve considerar os seguintes valores de hiperparâmetros de cada técnica de aprendizado:\n",
    "# KMC: [k = 1, 3, 5, 7]\n",
    "# KNN: [n_neighbors = 1, 3, 5, 7]\n",
    "# AD: [max_depth = None, 3, 5, 10]\"\n",
    "grade_kNN = {'estimator__n_neighbors': [1, 3, 5, 7]}\n",
    "grade_KMC = {'estimator__k': [1, 3, 5, 7]}\n",
    "grade_AD = {'estimator__max_depth': [None, 3, 5, 10]}\n",
    "grid_search_kNN = GridSearchCV(estimator=pipeline_kNN, param_grid=grade_kNN, scoring='accuracy', cv=4)\n",
    "grid_search_KMC = GridSearchCV(estimator=pipeline_KMC, param_grid=grade_KMC, scoring='accuracy', cv=4)\n",
    "grid_search_AD = GridSearchCV(estimator=pipeline_AD, param_grid=grade_AD, scoring='accuracy', cv=4)\n",
    "\n",
    "scores_kNN = cross_val_score(grid_search_kNN, data, labels, scoring='accuracy', cv=RSKF)\n",
    "scores_KMC = cross_val_score(grid_search_KMC, data, labels, scoring='accuracy', cv=RSKF)\n",
    "scores_AD = cross_val_score(grid_search_AD, data, labels, scoring='accuracy', cv=RSKF)\n",
    "\n",
    "mean_kNN = scores_kNN.mean()\n",
    "std_kNN = scores_kNN.std()\n",
    "lower_kNN, upper_kNN = stats.norm.interval(0.95, loc=mean_kNN, scale=std_kNN/np.sqrt(len(scores_kNN)))\n",
    "\n",
    "mean_KMC = scores_KMC.mean()\n",
    "std_KMC = scores_KMC.std()\n",
    "lower_KMC, upper_KMC = stats.norm.interval(0.95, loc=mean_KMC, scale=std_KMC/np.sqrt(len(scores_KMC)))\n",
    "\n",
    "mean_AD = scores_AD.mean()\n",
    "std_AD = scores_AD.std()\n",
    "lower_AD, upper_AD = stats.norm.interval(0.95, loc=mean_AD, scale=std_AD/np.sqrt(len(scores_AD)))"
   ]
  },
  {
   "cell_type": "markdown",
   "metadata": {},
   "source": [
    "Funções auxiliares para gerar tabelas dos resultados dos experimentos"
   ]
  },
  {
   "cell_type": "code",
   "execution_count": 6,
   "metadata": {},
   "outputs": [],
   "source": [
    "# Test a pair of scores against each other\n",
    "def test_two_models(scores1, scores2):\n",
    "    pTValue = ttest_rel(scores1, scores2)\n",
    "    pWValue = wilcoxon(scores1, scores2)\n",
    "    return pTValue, pWValue\n",
    "\n",
    "# Test all models against each other\n",
    "def test_models(all_scores):\n",
    "    # Test each model with the other, one by one:\n",
    "    pTValues = []\n",
    "    pWValues = []\n",
    "\n",
    "    testsDict = {}\n",
    "    for i, (model, score) in enumerate(all_scores.items()):\n",
    "        testsDict[model] = []\n",
    "        for j in range(i+1, len(all_scores)):\n",
    "            pTValue, pWValue = test_two_models(score, all_scores[list(all_scores.keys())[j]])\n",
    "            testsDict[model].append({'p': pTValue.pvalue, 'w': pWValue.pvalue})\n",
    "\n",
    "    return testsDict\n",
    "\n",
    "# Create a matrix of all models vs all models\n",
    "def get_statistical_tests_matrix(statisticalTestsDict):\n",
    "    MIN_CONFIDENCE_LEVEL = 0.05\n",
    "    statisticalTestMatrix = [[None for _ in range(len(statisticalTestsDict))] for _ in range(len(statisticalTestsDict))]\n",
    "    \n",
    "    print(\"Testes estatísticos:\")\n",
    "    \n",
    "    # Iterate over statisticalTestsDict in a cross fashion:\n",
    "    for i, (model, tests) in enumerate(statisticalTestsDict.items()):\n",
    "        # The diagonal of the matrix contains the names of the models. \n",
    "        j = i\n",
    "        statisticalTestMatrix[i][j] = model\n",
    "        for test in tests:\n",
    "            j += 1\n",
    "            # The upper diagonal contains the p-values of the statistical tests.\n",
    "            statisticalTestMatrix[i][j] = round(test['p'], 8)\n",
    "            # The lower diagonal contains the Wilcoxon p-values.\n",
    "            statisticalTestMatrix[j][i] = round(test['w'], 8)\n",
    "                \n",
    "    return statisticalTestMatrix\n",
    "\n",
    "# Create a LaTeX table of all models vs all models\n",
    "def print_matrix_table(statisticalTestMatrix):\n",
    "    print(\"\\hline\")\n",
    "    for row in statisticalTestMatrix:\n",
    "        for i, cell in enumerate(row):\n",
    "            ending = None\n",
    "            # If cell is not the last in the row:\n",
    "            if i != len(row) - 1:\n",
    "                ending = ' & '\n",
    "            else: \n",
    "                ending = ' \\\\\\\\ \\hline\\n'\n",
    "                \n",
    "            if type(cell) is not str:\n",
    "                if cell > 0.05:\n",
    "                    print(cell, end=ending)\n",
    "                else:\n",
    "                    print(f'\\\\textbf{{{cell}}}', end=ending)\n",
    "            else: \n",
    "                print(cell, end=ending)\n",
    "\n",
    "\n",
    "# Create a header for the LaTeX stats table\n",
    "def create_stats_header():\n",
    "    return '\\\\textbf{Método} & \\\\textbf{Média} & \\\\textbf{Desvio Padrão} & \\\\textbf{Limite Inferior} & \\\\textbf{Limite Superior} \\\\ \\hline \\n'\n",
    "\n",
    "# Create a line for the LaTeX stats table\n",
    "def create_stats_table_line(method_name, mean, std, lower, upper):\n",
    "    return '{} & {:.2f} & {:.2f} & {:.2f} & {:.2f} \\\\\\\\ \\hline \\n'.format(method_name, mean, std, lower, upper)"
   ]
  },
  {
   "cell_type": "code",
   "execution_count": 10,
   "metadata": {},
   "outputs": [
    {
     "name": "stdout",
     "output_type": "stream",
     "text": [
      "Statistical tests:\n",
      "\\hline\n",
      "zR & \\textbf{0.0} & \\textbf{0.0} & \\textbf{0.0} & \\textbf{0.0} \\\\ \\hline\n",
      "\\textbf{1.71e-06} & NBG & \\textbf{0.0} & \\textbf{0.0} & \\textbf{0.0} \\\\ \\hline\n",
      "\\textbf{1.6e-06} & \\textbf{1.72e-06} & kNN & \\textbf{0.0} & \\textbf{2.7e-07} \\\\ \\hline\n",
      "\\textbf{1.72e-06} & \\textbf{3.78e-06} & \\textbf{1.71e-06} & AD & \\textbf{0.0} \\\\ \\hline\n",
      "\\textbf{1.7e-06} & \\textbf{1.72e-06} & \\textbf{2.453e-05} & \\textbf{1.73e-06} & KMC \\\\ \\hline\n",
      "Tabela de métricas:\n",
      "\\textbf{Método} & \\textbf{Média} & \\textbf{Desvio Padrão} & \\textbf{Limite Inferior} & \\textbf{Limite Superior} \\ \\hline \n",
      "ZR & 0.10 & 0.00 & 0.10 & 0.10 \\\\ \\hline \n",
      "NGB & 0.78 & 0.03 & 0.77 & 0.80 \\\\ \\hline \n",
      "KMC & 0.95 & 0.01 & 0.95 & 0.96 \\\\ \\hline \n",
      "KNN & 0.98 & 0.01 & 0.97 & 0.98 \\\\ \\hline \n",
      "AD & 0.85 & 0.02 & 0.85 & 0.86 \\\\ \\hline \n",
      "\n",
      "Boxplot:\n"
     ]
    },
    {
     "data": {
      "image/png": "[encoded data removed]",
      "text/plain": [
       "<Figure size 432x288 with 1 Axes>"
      ]
     },
     "metadata": {
      "needs_background": "light"
     },
     "output_type": "display_data"
    }
   ],
   "source": [
    "scoresDict = {\n",
    "    'zR': scores_zR,\n",
    "    'NBG': scores_NBG,\n",
    "    'kNN': scores_kNN,\n",
    "    'AD': scores_AD,\n",
    "    'KMC': scores_KMC,\n",
    "}\n",
    "\n",
    "# Create the statistical tests results. \n",
    "statisticalTestsDict = test_models(scoresDict)\n",
    "statisticalTestMatrix = get_statistical_tests_matrix(statisticalTestsDict)\n",
    "print_matrix_table(statisticalTestMatrix)\n",
    "\n",
    "table = create_stats_header()\n",
    "table += create_stats_table_line('ZR', mean_zR, std_zR, lower_zR, upper_zR)\n",
    "table += create_stats_table_line('NGB', mean_NBG, std_NBG, lower_NBG, upper_NBG)\n",
    "table += create_stats_table_line('KMC', mean_KMC, std_KMC, lower_KMC, upper_KMC)\n",
    "table += create_stats_table_line('KNN', mean_kNN, std_kNN, lower_kNN, upper_kNN)\n",
    "table += create_stats_table_line('AD', mean_AD, std_AD, lower_AD, upper_AD)\n",
    "print(\"Tabela de métricas:\")\n",
    "print(table)\n",
    "\n",
    "# Generate a boxplot of the scores\n",
    "print(\"Boxplot:\")\n",
    "# Add KNN, AD and KMC scores to df_scores:\n",
    "df_scores['KMC'] = scores_KMC\n",
    "df_scores['KNN'] = scores_kNN\n",
    "df_scores['AD'] = scores_AD\n",
    "\n",
    "# Draw boxplot of all scores\n",
    "sns.boxplot(data=df_scores)\n",
    "plt.show()\n"
   ]
  }
 ],
 "metadata": {
  "interpreter": {
   "hash": "e7370f93d1d0cde622a1f8e1c04877d8463912d04d973331ad4851f04de6915a"
  },
  "kernelspec": {
   "display_name": "Python 3.10.4 64-bit",
   "language": "python",
   "name": "python3"
  },
  "language_info": {
   "codemirror_mode": {
    "name": "ipython",
    "version": 3
   },
   "file_extension": ".py",
   "mimetype": "text/x-python",
   "name": "python",
   "nbconvert_exporter": "python",
   "pygments_lexer": "ipython3",
   "version": "3.10.5"
  },
  "orig_nbformat": 4
 },
 "nbformat": 4,
 "nbformat_minor": 2
}
