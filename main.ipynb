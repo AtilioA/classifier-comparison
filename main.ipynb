{
 "cells": [
  {
   "cell_type": "code",
   "execution_count": 123,
   "metadata": {},
   "outputs": [
    {
     "name": "stdout",
     "output_type": "stream",
     "text": [
      "- digits: 10; - samples: 1797; - features: 64\n",
      "gNB score:\n",
      " [0.77777778 0.80555556 0.80555556 0.75       0.72222222 0.76666667\n",
      " 0.76666667 0.81564246 0.82122905 0.82681564 0.77777778 0.78333333\n",
      " 0.78333333 0.77777778 0.74444444 0.76111111 0.75555556 0.77094972\n",
      " 0.79888268 0.81005587 0.81111111 0.73888889 0.76111111 0.8\n",
      " 0.83888889 0.77777778 0.77777778 0.8547486  0.75418994 0.79329609]\n",
      "gNB: Mean Accuracy: 0.78 Standard Deviation: 0.03\n",
      "gNB: Accuracy Confidence Interval (95%): (0.77, 0.80)\n",
      "\n",
      "zR score:\n",
      " [0.1        0.1        0.1        0.1        0.1        0.1\n",
      " 0.1        0.10055866 0.10614525 0.10614525 0.1        0.1\n",
      " 0.1        0.1        0.1        0.1        0.1        0.10055866\n",
      " 0.10614525 0.10614525 0.1        0.1        0.1        0.1\n",
      " 0.1        0.1        0.1        0.10055866 0.10614525 0.10614525]\n",
      "zR: Mean Accuracy: 0.10 Standard Deviation: 0.00\n",
      "zR: Accuracy Confidence Interval (95\\%): (0.10, 0.10)\n",
      "\n"
     ]
    }
   ],
   "source": [
    "import numpy as np\n",
    "from scipy import stats\n",
    "from sklearn.datasets import load_digits, load_iris, load_wine\n",
    "from sklearn.model_selection import StratifiedKFold\n",
    "from sklearn.naive_bayes import GaussianNB\n",
    "from sklearn.dummy import DummyClassifier\n",
    "from sklearn.preprocessing import StandardScaler\n",
    "from sklearn.pipeline import Pipeline\n",
    "from sklearn.metrics import accuracy_score\n",
    "from sklearn.model_selection import cross_val_score\n",
    "from sklearn.model_selection import RepeatedStratifiedKFold\n",
    "\n",
    "# Load digits dataset from scikit-learn; split into data and target/label\n",
    "digits_data, digits_labels = load_digits(return_X_y=True)\n",
    "# Get the number of samples (lines) and features (columns); also get the number of unique labels, i.e. the number of classes\n",
    "(n_samples, n_features), n_digits = digits_data.shape, np.unique(digits_labels).size\n",
    "print(f\"- digits: {n_digits}; - samples: {n_samples}; - features: {n_features}\")\n",
    "\n",
    "# Initialize a dummy classifier (zeroR), and the Naive Bayes classifier (GaussianNB)\n",
    "zR = DummyClassifier(strategy='most_frequent')\n",
    "gNB = GaussianNB()\n",
    "\n",
    "# Initialize a scalar pipeline to scale the data before feeding it to the classifier\n",
    "scalar = StandardScaler()\n",
    "\n",
    "pipeline_gNB = Pipeline([('transformer', scalar), ('estimator', gNB)])\n",
    "pipeline_zR = Pipeline([('transformer', scalar), ('estimator', zR)])\n",
    "\n",
    "# Initialize a stratified k-fold cross-validation object with seed provided by the professor\n",
    "RSKF = RepeatedStratifiedKFold(n_splits=10, n_repeats=3, random_state=36851234)\n",
    "\n",
    "# Use zeroR (DummyClassifier) and naiveBayes to predict the class of the data with stratified cross-validation (10-fold), repeated 3 times\n",
    "score_gNB = cross_val_score(pipeline_gNB, digits_data, digits_labels, scoring='accuracy', cv=RSKF)\n",
    "score_zR = cross_val_score(pipeline_zR, digits_data, digits_labels, scoring='accuracy', cv=RSKF)\n",
    "\n",
    "# Print the accuracy scores for the classifiers\n",
    "# gNB\n",
    "mean_gNB = score_gNB.mean()\n",
    "std_gNB = score_gNB.std()\n",
    "lower_gNB, upper_gNB = stats.norm.interval(0.95, loc=mean_gNB, scale=std_gNB/np.sqrt(len(score_gNB)))\n",
    "     \n",
    "print(\"gNB score:\\n\", score_gNB)\n",
    "print(\"gNB: Mean Accuracy: %0.2f Standard Deviation: %0.2f\" % (mean_gNB, std_gNB))\n",
    "print(\"gNB: Accuracy Confidence Interval (95%%): (%0.2f, %0.2f)\\n\" % (lower_gNB, upper_gNB)) \n",
    "       \n",
    "#zR                          \n",
    "mean_zR = score_zR.mean()\n",
    "std_zR = score_zR.std()\n",
    "lower_zR, upper_zR = stats.norm.interval(0.95, loc=mean_zR, \n",
    "                               scale=std_zR/np.sqrt(len(score_zR)))\n",
    "\n",
    "print(\"zR score:\\n\", score_zR)\n",
    "print(\"zR: Mean Accuracy: %0.2f Standard Deviation: %0.2f\" % (mean_zR, std_zR))\n",
    "print(\"zR: Accuracy Confidence Interval (95\\%%): (%0.2f, %0.2f)\\n\" % (lower_zR, upper_zR)) \n"
   ]
  },
  {
   "cell_type": "code",
   "execution_count": null,
   "metadata": {},
   "outputs": [],
   "source": []
  }
 ],
 "metadata": {
  "interpreter": {
   "hash": "e7370f93d1d0cde622a1f8e1c04877d8463912d04d973331ad4851f04de6915a"
  },
  "kernelspec": {
   "display_name": "Python 3.10.4 64-bit",
   "language": "python",
   "name": "python3"
  },
  "language_info": {
   "codemirror_mode": {
    "name": "ipython",
    "version": 3
   },
   "file_extension": ".py",
   "mimetype": "text/x-python",
   "name": "python",
   "nbconvert_exporter": "python",
   "pygments_lexer": "ipython3",
   "version": "3.10.4"
  },
  "orig_nbformat": 4
 },
 "nbformat": 4,
 "nbformat_minor": 2
}
